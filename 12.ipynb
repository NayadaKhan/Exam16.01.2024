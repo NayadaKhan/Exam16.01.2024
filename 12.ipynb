{
  "nbformat": 4,
  "nbformat_minor": 0,
  "metadata": {
    "colab": {
      "provenance": [],
      "authorship_tag": "ABX9TyPLsu9JTyatHaWuk2UyEzKM"
    },
    "kernelspec": {
      "name": "python3",
      "display_name": "Python 3"
    },
    "language_info": {
      "name": "python"
    }
  },
  "cells": [
    {
      "cell_type": "code",
      "execution_count": null,
      "metadata": {
        "id": "CJtwUCPYJd6-"
      },
      "outputs": [],
      "source": [
        "import numpy as np\n",
        "n = int (input())\n",
        "A = [[int(j) for j in input().split()] for i in range (n)]\n",
        "A = np.array(A)\n",
        "n = int (input())\n",
        "B = [[int(j) for j in input().split()]for i in range (n)]\n",
        "B = np.array(B)\n",
        "B1 = np.linalg.inv (B)\n",
        "A1 = (B1.dot(A)).dot(B)\n",
        "for i in range (0,len(A1)):\n",
        "    for j in range (0,len(A1)):\n",
        "        A1[i][j] = int(A1[i][j])\n",
        "for i in range (0,len(A1)):\n",
        "    print(*A1[i])"
      ]
    }
  ]
}